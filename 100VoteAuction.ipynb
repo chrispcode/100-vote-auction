{
 "cells": [
  {
   "cell_type": "code",
   "execution_count": 478,
   "metadata": {},
   "outputs": [],
   "source": [
    "import random"
   ]
  },
  {
   "cell_type": "code",
   "execution_count": 479,
   "metadata": {},
   "outputs": [],
   "source": [
    "class Game:\n",
    "  def __init__(self, players, verbose=False):\n",
    "    random.shuffle(players)\n",
    "    self.players = players\n",
    "    self.history = []\n",
    "    self.current_bid = -1\n",
    "    self.winner = None\n",
    "\n",
    "  def run(self):\n",
    "    game_finished = False\n",
    "    abstain_count = 0\n",
    "\n",
    "    while not game_finished:\n",
    "      player_count = len(self.players)\n",
    "\n",
    "      for player in self.players:\n",
    "        if abstain_count >= player_count - 1:\n",
    "          game_finished = True\n",
    "          continue\n",
    "\n",
    "        bid = player.play(self)\n",
    "        \n",
    "        if bid is None or bid > player.balance or bid <= self.current_bid:\n",
    "          abstain_count += 1\n",
    "          self.history.append((player, None))\n",
    "          continue\n",
    "        else:\n",
    "          abstain_count = 0\n",
    "          player.balance -= bid\n",
    "          self.current_bid = bid\n",
    "          self.history.append((player, bid))\n",
    "\n",
    "    winner = self.history[-player_count][0]\n",
    "    winner.balance += 100\n",
    "    self.winner = winner"
   ]
  },
  {
   "cell_type": "markdown",
   "metadata": {},
   "source": [
    "Let's create the an abstract class of player. This class will serve as the base for each player strategy we create. It shouldn't never be instanciated, only inherited."
   ]
  },
  {
   "cell_type": "code",
   "execution_count": 480,
   "metadata": {},
   "outputs": [],
   "source": [
    "class AbstractPlayer:\n",
    "  def __init__(self, name, balance):\n",
    "    self.name = name\n",
    "    self.balance = balance\n",
    "\n",
    "  def __str__(self):\n",
    "    return f\"{self.name}\"\n",
    "\n",
    "  def bid(self, amount):\n",
    "    return amount\n",
    "\n",
    "  def abstrain(self):\n",
    "    return None\n",
    "\n",
    "  # different stategies\n",
    "  def play(self, game):\n",
    "    pass"
   ]
  },
  {
   "cell_type": "markdown",
   "metadata": {},
   "source": [
    "Let's create a random player, which will bid based on a fair coin flip (50% bid, 50% abstain)."
   ]
  },
  {
   "cell_type": "code",
   "execution_count": 481,
   "metadata": {},
   "outputs": [],
   "source": [
    "import random\n",
    "\n",
    "class RandomPlayer(AbstractPlayer):\n",
    "  def __init__(self, name, balance, increment):\n",
    "    AbstractPlayer.__init__(self, name, balance)\n",
    "    self.increment = increment\n",
    "\n",
    "  def play(self, game: Game):\n",
    "    player_bids = random.choice([True, False])\n",
    "\n",
    "    if player_bids:\n",
    "      return self.bid(game.current_bid + self.increment)\n",
    "\n",
    "    return self.abstrain()"
   ]
  },
  {
   "cell_type": "markdown",
   "metadata": {},
   "source": [
    "Let's create a ceiling player, that will bid until it reaches a certain ceiling and abstain afterwords."
   ]
  },
  {
   "cell_type": "code",
   "execution_count": 482,
   "metadata": {},
   "outputs": [],
   "source": [
    "class CeilingPlayer(AbstractPlayer):\n",
    "  def __init__(self, name, balance, ceiling, increment):\n",
    "    AbstractPlayer.__init__(self, name, balance)\n",
    "    self.ceiling = ceiling\n",
    "    self.increment = increment\n",
    "\n",
    "  def play(self, game: Game):\n",
    "    if game.history == []:\n",
    "      return self.bid(0)\n",
    "\n",
    "    if game.current_bid < self.ceiling:\n",
    "      return self.bid(game.current_bid + self.increment);\n",
    "\n",
    "    return self.abstrain()"
   ]
  },
  {
   "cell_type": "markdown",
   "metadata": {},
   "source": [
    "Let's run a single round of the game, using 2 players (Alice and Bob)"
   ]
  },
  {
   "cell_type": "code",
   "execution_count": 483,
   "metadata": {},
   "outputs": [],
   "source": [
    "p1 = CeilingPlayer(\"Alice\", balance=1000, ceiling=100, increment=10)\n",
    "p2 = CeilingPlayer(\"Bob\", balance=1000, ceiling=100, increment=10)\n",
    "\n",
    "players = [p1, p2]\n",
    "\n",
    "game = Game(players=players)\n",
    "game.run()"
   ]
  },
  {
   "cell_type": "code",
   "execution_count": 484,
   "metadata": {},
   "outputs": [
    {
     "name": "stdout",
     "output_type": "stream",
     "text": [
      "Alice bids 0\n",
      "Bob bids 10\n",
      "Alice bids 20\n",
      "Bob bids 30\n",
      "Alice bids 40\n",
      "Bob bids 50\n",
      "Alice bids 60\n",
      "Bob bids 70\n",
      "Alice bids 80\n",
      "Bob bids 90\n",
      "Alice bids 100\n",
      "Bob abstains\n"
     ]
    }
   ],
   "source": [
    "p1_actions = filter(lambda action: action[0] == p1, game.history)\n",
    "p2_actions = filter(lambda action: action[0] == p2, game.history)\n",
    "\n",
    "for player, bid in game.history:\n",
    "  if bid is None:\n",
    "    print(f\"{player} abstains\")\n",
    "  else:\n",
    "    print(f\"{player} bids {bid}\")"
   ]
  },
  {
   "cell_type": "code",
   "execution_count": 485,
   "metadata": {},
   "outputs": [
    {
     "name": "stdout",
     "output_type": "stream",
     "text": [
      "Winner: Alice\n",
      "Balance of Alice: 800\n",
      "Balance of Bob: 750\n"
     ]
    }
   ],
   "source": [
    "print(f\"Winner: {game.winner}\")\n",
    "\n",
    "for player in players:\n",
    "  print(f\"Balance of {player}: {player.balance}\")"
   ]
  },
  {
   "cell_type": "markdown",
   "metadata": {},
   "source": [
    "Now let's simulate 100 rounds of the game"
   ]
  },
  {
   "cell_type": "code",
   "execution_count": 486,
   "metadata": {},
   "outputs": [],
   "source": [
    "import numpy as np\n",
    "import matplotlib.pyplot as plt"
   ]
  },
  {
   "cell_type": "code",
   "execution_count": 489,
   "metadata": {},
   "outputs": [
    {
     "ename": "TypeError",
     "evalue": "'builtin_function_or_method' object cannot be interpreted as an integer",
     "output_type": "error",
     "traceback": [
      "\u001b[0;31m---------------------------------------------------------------------------\u001b[0m",
      "\u001b[0;31mTypeError\u001b[0m                                 Traceback (most recent call last)",
      "Cell \u001b[0;32mIn[489], line 8\u001b[0m\n\u001b[1;32m      4\u001b[0m p2 \u001b[38;5;241m=\u001b[39m CeilingPlayer(\u001b[38;5;124m\"\u001b[39m\u001b[38;5;124mBob\u001b[39m\u001b[38;5;124m\"\u001b[39m, balance\u001b[38;5;241m=\u001b[39m\u001b[38;5;241m5000\u001b[39m, ceiling\u001b[38;5;241m=\u001b[39m\u001b[38;5;241m100\u001b[39m, increment\u001b[38;5;241m=\u001b[39m\u001b[38;5;241m10\u001b[39m)\n\u001b[1;32m      6\u001b[0m players \u001b[38;5;241m=\u001b[39m [p1, p2]\n\u001b[0;32m----> 8\u001b[0m results \u001b[38;5;241m=\u001b[39m \u001b[43mnp\u001b[49m\u001b[38;5;241;43m.\u001b[39;49m\u001b[43mzeros\u001b[49m\u001b[43m(\u001b[49m\u001b[43m(\u001b[49m\u001b[38;5;28;43mlen\u001b[39;49m\u001b[43m,\u001b[49m\u001b[43m \u001b[49m\u001b[43mROUNDS\u001b[49m\u001b[43m)\u001b[49m\u001b[43m)\u001b[49m\n\u001b[1;32m     10\u001b[0m \u001b[38;5;28;01mfor\u001b[39;00m i \u001b[38;5;129;01min\u001b[39;00m \u001b[38;5;28mrange\u001b[39m(ROUNDS):\n\u001b[1;32m     11\u001b[0m   game \u001b[38;5;241m=\u001b[39m Game(players\u001b[38;5;241m=\u001b[39m[p1, p2])\n",
      "\u001b[0;31mTypeError\u001b[0m: 'builtin_function_or_method' object cannot be interpreted as an integer"
     ]
    }
   ],
   "source": [
    "ROUNDS = 100\n",
    "\n",
    "p1 = CeilingPlayer(\"Alice\", balance=5000, ceiling=100, increment=10)\n",
    "p2 = CeilingPlayer(\"Bob\", balance=5000, ceiling=100, increment=10)\n",
    "\n",
    "players = [p1, p2]\n",
    "\n",
    "results = np.zeros((len(players), ROUNDS))\n",
    "\n",
    "for i in range(ROUNDS):\n",
    "  game = Game(players=[p1, p2])\n",
    "  game.run()\n",
    "  results[0][i] = p1.balance\n",
    "  results[1][i] = p2.balance\n",
    "\n",
    "plt.plot(np.linspace(0, ROUNDS, ROUNDS), results[0], label=\"P1\")\n",
    "plt.plot(np.linspace(0, ROUNDS, ROUNDS), results[1], label=\"P2\")\n",
    "plt.xlabel('Game #')\n",
    "plt.ylabel('Player\\'s Balance')\n",
    "plt.legend() \n",
    "plt.show()"
   ]
  },
  {
   "cell_type": "markdown",
   "metadata": {},
   "source": [
    "From the graph we can see that with each round players lose money, until one of them runs out. After that the remaining player start to win money back from the auctioneer. In this implementation who gets to vote first is determined by random (uniform), thus which player would run out of money first is also determined at random with probability 1/2"
   ]
  },
  {
   "cell_type": "markdown",
   "metadata": {},
   "source": [
    "Now let's simulate 100 games of 100 rounds and take the averages"
   ]
  },
  {
   "cell_type": "code",
   "execution_count": 488,
   "metadata": {},
   "outputs": [
    {
     "data": {
      "image/png": "[encoded data removed]",
      "text/plain": [
       "<Figure size 640x480 with 1 Axes>"
      ]
     },
     "metadata": {},
     "output_type": "display_data"
    }
   ],
   "source": [
    "GAMES = 1000\n",
    "ROUNDS = 100\n",
    "\n",
    "results = np.zeros((GAMES, 2, ROUNDS))\n",
    "\n",
    "for i in range(GAMES):\n",
    "  p1 = CeilingPlayer(\"Alice\", balance=5000, ceiling=100, increment=10)\n",
    "  p2 = CeilingPlayer(\"Bob\", balance=5000, ceiling=100, increment=10)\n",
    "\n",
    "  for j in range(ROUNDS):\n",
    "    game = Game(players=[p1, p2])\n",
    "    game.run()\n",
    "    results[i][0][j] = p1.balance\n",
    "    results[i][1][j] = p2.balance\n",
    "\n",
    "averages = np.zeros((2, 100))\n",
    "\n",
    "averages[0] = results[:,0,:].mean(axis=0)\n",
    "averages[1] = results[:,1,:].mean(axis=0)\n",
    "\n",
    "plt.plot(np.linspace(0, ROUNDS, ROUNDS), averages[0], label=\"P1\")\n",
    "plt.plot(np.linspace(0, ROUNDS, ROUNDS), averages[1], label=\"P2\")\n",
    "plt.xlabel('Game #')\n",
    "plt.ylabel('Player\\'s Balance')\n",
    "plt.legend() \n",
    "plt.show()"
   ]
  }
 ],
 "metadata": {
  "kernelspec": {
   "display_name": "Python 3",
   "language": "python",
   "name": "python3"
  },
  "language_info": {
   "codemirror_mode": {
    "name": "ipython",
    "version": 3
   },
   "file_extension": ".py",
   "mimetype": "text/x-python",
   "name": "python",
   "nbconvert_exporter": "python",
   "pygments_lexer": "ipython3",
   "version": "3.9.6"
  }
 },
 "nbformat": 4,
 "nbformat_minor": 2
}
