{
 "cells": [
  {
   "cell_type": "code",
   "execution_count": 366,
   "metadata": {},
   "outputs": [],
   "source": [
    "import random\n",
    "import numpy as np\n",
    "import matplotlib.pyplot as plt\n",
    "\n",
    "np.set_printoptions(suppress=True)"
   ]
  },
  {
   "cell_type": "markdown",
   "metadata": {},
   "source": [
    "Let's create a vector containing the price for placing a bid at each node of an auction lot."
   ]
  },
  {
   "cell_type": "code",
   "execution_count": 367,
   "metadata": {},
   "outputs": [
    {
     "data": {
      "text/plain": [
       "array([  1,   2,   3,   4,   5,   6,   7,   8,   9,  10,  11,  12,  13,\n",
       "        14,  15,  16,  17,  18,  19,  20,  21,  22,  23,  24,  25,  26,\n",
       "        27,  28,  29,  30,  31,  32,  33,  34,  35,  36,  37,  38,  39,\n",
       "        40,  41,  42,  43,  44,  45,  46,  47,  48,  49,  50,  51,  52,\n",
       "        53,  54,  55,  56,  57,  58,  59,  60,  61,  62,  63,  64,  65,\n",
       "        66,  67,  68,  69,  70,  71,  72,  73,  74,  75,  76,  77,  78,\n",
       "        79,  80,  81,  82,  83,  84,  85,  86,  87,  88,  89,  90,  91,\n",
       "        92,  93,  94,  95,  96,  97,  98,  99, 100])"
      ]
     },
     "execution_count": 367,
     "metadata": {},
     "output_type": "execute_result"
    }
   ],
   "source": [
    "pricing = np.arange(1, 101)\n",
    "pricing"
   ]
  },
  {
   "cell_type": "markdown",
   "metadata": {},
   "source": [
    "We will use it in conjunction with a player's strategy to determine a player's next bids. A strategy is a vector of 0s and 1s that determins the next desired bid positions for a player."
   ]
  },
  {
   "cell_type": "code",
   "execution_count": 396,
   "metadata": {},
   "outputs": [
    {
     "data": {
      "text/plain": [
       "array([1, 0, 0, 0, 0, 0, 0, 0, 0, 0, 1, 0, 0, 0, 0, 0, 0, 0, 0, 0, 1, 0,\n",
       "       0, 0, 0, 0, 0, 0, 0, 0, 1, 0, 0, 0, 0, 0, 0, 0, 0, 0, 1, 0, 0, 0,\n",
       "       0, 0, 0, 0, 0, 0, 1, 0, 0, 0, 0, 0, 0, 0, 0, 0, 0, 0, 0, 0, 0, 0,\n",
       "       0, 0, 0, 0, 0, 0, 0, 0, 0, 0, 0, 0, 0, 0, 0, 0, 0, 0, 0, 0, 0, 0,\n",
       "       0, 0, 0, 0, 0, 0, 0, 0, 0, 0, 0, 1])"
      ]
     },
     "execution_count": 396,
     "metadata": {},
     "output_type": "execute_result"
    }
   ],
   "source": [
    "strategy = np.zeros(100, dtype=int)\n",
    "strategy[0] = 1 # player would like to bid to node 0 [price = 1]\n",
    "\n",
    "# player would like to bid\n",
    "# until node 50 [price = 51],\n",
    "# incrementing each time by 10\n",
    "strategy[0:51:10] = 1\n",
    "\n",
    "strategy[-1] = 1 # player would like to bid to node 99 [price = 100]"
   ]
  },
  {
   "cell_type": "markdown",
   "metadata": {},
   "source": [
    "By multiplying the strategy and pricing vectors we can extract the nodes that the user would like to end at. We can also remove all zero-elements"
   ]
  },
  {
   "cell_type": "code",
   "execution_count": 369,
   "metadata": {},
   "outputs": [
    {
     "data": {
      "text/plain": [
       "array([  1,  11,  21,  31,  41,  51, 100])"
      ]
     },
     "execution_count": 369,
     "metadata": {},
     "output_type": "execute_result"
    }
   ],
   "source": [
    "bids = strategy * pricing\n",
    "bids = bids[bids > 0]\n",
    "strategy, bids"
   ]
  },
  {
   "cell_type": "code",
   "execution_count": 370,
   "metadata": {},
   "outputs": [],
   "source": [
    "def strategy_to_bids(strategy):\n",
    "  bids = strategy * pricing\n",
    "  bids = bids[bids > 0]\n",
    "\n",
    "  return bids\n",
    "\n",
    "def bids_to_strategy(bids):\n",
    "  strategy = np.zeros(100, dtype=int)\n",
    "  strategy[bids - 1] = 1\n",
    "\n",
    "  return strategy"
   ]
  },
  {
   "cell_type": "code",
   "execution_count": 371,
   "metadata": {},
   "outputs": [
    {
     "data": {
      "text/plain": [
       "404"
      ]
     },
     "execution_count": 371,
     "metadata": {},
     "output_type": "execute_result"
    }
   ],
   "source": [
    "current_bid = 100\n",
    "\n",
    "# return next_bid in the sequence, \n",
    "# if none is found return 404\n",
    "next_bid = np.min(bids[bids > current_bid], initial=404)\n",
    "\n",
    "next_bid"
   ]
  },
  {
   "cell_type": "code",
   "execution_count": 372,
   "metadata": {},
   "outputs": [],
   "source": [
    "class Player:\n",
    "  def __init__(self, id, strategy, balance):\n",
    "    self.id = id\n",
    "    self.balance = balance\n",
    "    self.strategy = strategy\n",
    "    self.bids = strategy * pricing\n",
    "    self.bids = self.bids[self.bids > 0]\n",
    "\n",
    "  def get_next_bid(self, lot):\n",
    "    # Don't bid agains yourself\n",
    "    if lot.current_bid_owner is not None and self.id == lot.current_bid_owner.id:\n",
    "      return None\n",
    "\n",
    "    bids = self.bids\n",
    "\n",
    "    next_bid = np.min(\n",
    "      bids[bids > lot.current_bid],\n",
    "      initial=404\n",
    "    )\n",
    "\n",
    "    # Ceiling reached\n",
    "    if next_bid == 404:\n",
    "      return None\n",
    "    \n",
    "    # Not enough in balance to cover\n",
    "    if self.balance < next_bid:\n",
    "      return None\n",
    "    \n",
    "    return next_bid"
   ]
  },
  {
   "cell_type": "code",
   "execution_count": 373,
   "metadata": {},
   "outputs": [],
   "source": [
    "class HundredVoteLot:\n",
    "  current_bid = 0\n",
    "  current_bid_owner: Player = None\n",
    "\n",
    "  def __init__(self, players: list[Player]):\n",
    "    self.players = random.sample(players, len(players))\n",
    "\n",
    "  def run(self):\n",
    "    self.history = []\n",
    "\n",
    "    abstain_counter = 0\n",
    "\n",
    "    while abstain_counter < len(self.players):\n",
    "      for player in self.players:\n",
    "        next_bid = player.get_next_bid(self)\n",
    "\n",
    "        if next_bid is None:\n",
    "          abstain_counter += 1\n",
    "        else:\n",
    "          self.current_bid = next_bid\n",
    "          self.current_bid_owner = player\n",
    "\n",
    "          player.balance -= next_bid\n",
    "        \n",
    "        self.history.append((player.id, next_bid))\n",
    "    \n",
    "    if self.current_bid_owner is not None:\n",
    "      self.current_bid_owner.balance += 100"
   ]
  },
  {
   "cell_type": "code",
   "execution_count": 374,
   "metadata": {},
   "outputs": [
    {
     "data": {
      "text/plain": [
       "array([ 1.,  0.,  0.,  0.,  0.,  0.,  0.,  0.,  0.,  0., 11.,  0.,  0.,\n",
       "        0.,  0.,  0.,  0.,  0.,  0.,  0., 21.,  0.,  0.,  0.,  0.,  0.,\n",
       "        0.,  0.,  0.,  0., 31.,  0.,  0.,  0.,  0.,  0.,  0.,  0.,  0.,\n",
       "        0., 41.,  0.,  0.,  0.,  0.,  0.,  0.,  0.,  0.,  0.,  0.,  0.,\n",
       "        0.,  0.,  0.,  0.,  0.,  0.,  0.,  0.,  0.,  0.,  0.,  0.,  0.,\n",
       "        0.,  0.,  0.,  0.,  0.,  0.,  0.,  0.,  0.,  0.,  0.,  0.,  0.,\n",
       "        0.,  0.,  0.,  0.,  0.,  0.,  0.,  0.,  0.,  0.,  0.,  0.,  0.,\n",
       "        0.,  0.,  0.,  0.,  0.,  0.,  0.,  0.,  0.])"
      ]
     },
     "execution_count": 374,
     "metadata": {},
     "output_type": "execute_result"
    }
   ],
   "source": [
    "example_strategy = np.zeros(100)\n",
    "# Start at 1, increment by 10, until 51\n",
    "# 1, 11, 21, 31, 41, 51\n",
    "example_strategy[:50:10] = 1\n",
    "\n",
    "example_strategy * pricing"
   ]
  },
  {
   "cell_type": "code",
   "execution_count": 375,
   "metadata": {},
   "outputs": [
    {
     "name": "stdout",
     "output_type": "stream",
     "text": [
      "2 players bid on a 100 vote lot...\n",
      "History: [('Bob', 1), ('Alice', 11), ('Bob', 21), ('Alice', 31), ('Bob', 41), ('Alice', 51), ('Bob', 100), ('Alice', None), ('Bob', None), ('Alice', None)]\n",
      "Alice - 907 votes\n",
      "Bob - 937 votes\n"
     ]
    }
   ],
   "source": [
    "players = [\n",
    "  Player(\"Alice\", strategy, balance=1000),\n",
    "  Player(\"Bob\", strategy, balance=1000),\n",
    "]\n",
    "\n",
    "lot = HundredVoteLot(players)\n",
    "lot.run()\n",
    "\n",
    "print(f\"{len(players)} players bid on a 100 vote lot...\")\n",
    "print(f\"History: {lot.history}\")\n",
    "\n",
    "for player in players:\n",
    "  print(f\"{player.id} - {player.balance} votes\")"
   ]
  },
  {
   "cell_type": "code",
   "execution_count": 376,
   "metadata": {},
   "outputs": [],
   "source": [
    "class HundredVoteAuction:\n",
    "  def __init__(self, players: list[Player], rounds: int):\n",
    "    self.players = players\n",
    "    self.rounds = rounds\n",
    "    self.history = []\n",
    "    self.balances = np.zeros((len(players), rounds + 1))\n",
    "\n",
    "  def run(self):\n",
    "    self.balances[:, 0] = [player.balance for player in players]\n",
    "\n",
    "    for round in range(1, self.rounds + 1):\n",
    "      lot = HundredVoteLot(self.players)\n",
    "      lot.run()\n",
    "\n",
    "      self.history.append(lot.history)\n",
    "\n",
    "      for i, player in enumerate(self.players):\n",
    "        self.balances[i][round] = player.balance\n",
    "\n",
    "  def plot(self):\n",
    "    for i, player in enumerate(self.players):\n",
    "      plt.plot(self.balances[i], label=f'{player.id}')\n",
    "    \n",
    "    plt.xlabel('Game #')\n",
    "    plt.ylabel('Player\\'s Balance')\n",
    "    plt.legend()\n",
    "    plt.show()"
   ]
  },
  {
   "cell_type": "code",
   "execution_count": 377,
   "metadata": {},
   "outputs": [
    {
     "data": {
      "image/png": "[encoded data removed]",
      "text/plain": [
       "<Figure size 640x480 with 1 Axes>"
      ]
     },
     "metadata": {},
     "output_type": "display_data"
    },
    {
     "data": {
      "text/plain": [
       "array([  0.,   0.,   0.,   0.,   0.,   0.,   0.,   0.,   0.,  10.,   0.,\n",
       "         0.,   0.,   0.,   0.,   0.,   0.,   0.,   0.,  20.,   0.,   0.,\n",
       "         0.,   0.,   0.,   0.,   0.,   0.,   0.,  30.,   0.,   0.,   0.,\n",
       "         0.,   0.,   0.,   0.,   0.,   0.,  40.,   0.,   0.,   0.,   0.,\n",
       "         0.,   0.,   0.,   0.,   0.,  50.,   0.,   0.,   0.,   0.,   0.,\n",
       "         0.,   0.,   0.,   0.,  60.,   0.,   0.,   0.,   0.,   0.,   0.,\n",
       "         0.,   0.,   0.,  70.,   0.,   0.,   0.,   0.,   0.,   0.,   0.,\n",
       "         0.,   0.,  80.,   0.,   0.,   0.,   0.,   0.,   0.,   0.,   0.,\n",
       "         0.,  90.,   0.,   0.,   0.,   0.,   0.,   0.,   0.,   0.,   0.,\n",
       "       100.])"
      ]
     },
     "execution_count": 377,
     "metadata": {},
     "output_type": "execute_result"
    }
   ],
   "source": [
    "# Start at 10 (9+1),\n",
    "# incrementing by 10 each time\n",
    "# until the end (100)\n",
    "example_strategy= np.zeros(100)\n",
    "example_strategy[9::10] = 1\n",
    "\n",
    "players = [\n",
    "  Player(\"Alice\", example_strategy, balance=1000),\n",
    "  Player(\"Bob\", example_strategy, balance=1000),\n",
    "  Player(\"Charlie\", example_strategy, balance=1000),\n",
    "]\n",
    "\n",
    "auction = HundredVoteAuction(players, rounds=10)\n",
    "auction.run()\n",
    "auction.plot()\n",
    "\n",
    "example_strategy * pricing"
   ]
  },
  {
   "cell_type": "markdown",
   "metadata": {},
   "source": [
    "Let's run a couple of simulation to determine what type of strategy get's ahead, by changing only one variable at a time (balance, ceiling, increment)"
   ]
  },
  {
   "cell_type": "markdown",
   "metadata": {},
   "source": [
    "### Increment\n",
    "\n",
    "Assumption - if all players have the same ceiling, then the player with the least steps to get to that ceiling has an advantage. This would be the player with the highest increment. This comes from the design of the game which requires each placed bid to be payed immediately. Larger increments get you to that target ceiling with lower investments."
   ]
  },
  {
   "cell_type": "code",
   "execution_count": 378,
   "metadata": {},
   "outputs": [
    {
     "data": {
      "text/plain": [
       "array([[ 1.,  0.,  0.,  0.,  0.,  0.,  0.,  0.,  0., 10.,  0.,  0.,  0.,\n",
       "         0.,  0.,  0.,  0.,  0.,  0., 20.,  0.,  0.,  0.,  0.,  0.,  0.,\n",
       "         0.,  0.,  0., 30.,  0.,  0.,  0.,  0.,  0.,  0.,  0.,  0.,  0.,\n",
       "        40.,  0.,  0.,  0.,  0.,  0.,  0.,  0.,  0.,  0., 50.,  0.,  0.,\n",
       "         0.,  0.,  0.,  0.,  0.,  0.,  0., 60.,  0.,  0.,  0.,  0.,  0.,\n",
       "         0.,  0.,  0.,  0., 70.,  0.,  0.,  0.,  0.,  0.,  0.,  0.,  0.,\n",
       "         0., 80.,  0.,  0.,  0.,  0.,  0.,  0.,  0.,  0.,  0.,  0.,  0.,\n",
       "         0.,  0.,  0.,  0.,  0.,  0.,  0.,  0.,  0.],\n",
       "       [ 1.,  0.,  0.,  0.,  0.,  0.,  0.,  0.,  0.,  0.,  0.,  0.,  0.,\n",
       "         0.,  0.,  0.,  0.,  0.,  0., 20.,  0.,  0.,  0.,  0.,  0.,  0.,\n",
       "         0.,  0.,  0.,  0.,  0.,  0.,  0.,  0.,  0.,  0.,  0.,  0.,  0.,\n",
       "        40.,  0.,  0.,  0.,  0.,  0.,  0.,  0.,  0.,  0.,  0.,  0.,  0.,\n",
       "         0.,  0.,  0.,  0.,  0.,  0.,  0., 60.,  0.,  0.,  0.,  0.,  0.,\n",
       "         0.,  0.,  0.,  0.,  0.,  0.,  0.,  0.,  0.,  0.,  0.,  0.,  0.,\n",
       "         0., 80.,  0.,  0.,  0.,  0.,  0.,  0.,  0.,  0.,  0.,  0.,  0.,\n",
       "         0.,  0.,  0.,  0.,  0.,  0.,  0.,  0.,  0.],\n",
       "       [ 1.,  0.,  0.,  0.,  0.,  0.,  0.,  0.,  0.,  0.,  0.,  0.,  0.,\n",
       "         0.,  0.,  0.,  0.,  0.,  0.,  0.,  0.,  0.,  0.,  0.,  0.,  0.,\n",
       "         0.,  0.,  0., 30.,  0.,  0.,  0.,  0.,  0.,  0.,  0.,  0.,  0.,\n",
       "         0.,  0.,  0.,  0.,  0.,  0.,  0.,  0.,  0.,  0.,  0.,  0.,  0.,\n",
       "         0.,  0.,  0.,  0.,  0.,  0.,  0., 60.,  0.,  0.,  0.,  0.,  0.,\n",
       "         0.,  0.,  0.,  0.,  0.,  0.,  0.,  0.,  0.,  0.,  0.,  0.,  0.,\n",
       "         0.,  0.,  0.,  0.,  0.,  0.,  0.,  0.,  0.,  0.,  0.,  0.,  0.,\n",
       "         0.,  0.,  0.,  0.,  0.,  0.,  0.,  0.,  0.]])"
      ]
     },
     "execution_count": 378,
     "metadata": {},
     "output_type": "execute_result"
    }
   ],
   "source": [
    "CEILING = 80\n",
    "\n",
    "increment_10 = np.zeros(100)\n",
    "increment_10[0] = 1\n",
    "increment_10[9:CEILING:10] = 1\n",
    "\n",
    "increment_20 = np.zeros(100)\n",
    "increment_20[0] = 1\n",
    "increment_20[19:CEILING:20] = 1\n",
    "\n",
    "increment_30 = np.zeros(100)\n",
    "increment_30[0] = 1\n",
    "increment_30[29:CEILING:30] = 1\n",
    "\n",
    "np.array([increment_10, increment_20, increment_30]) * pricing"
   ]
  },
  {
   "cell_type": "code",
   "execution_count": 379,
   "metadata": {},
   "outputs": [
    {
     "data": {
      "image/png": "[encoded data removed]",
      "text/plain": [
       "<Figure size 640x480 with 1 Axes>"
      ]
     },
     "metadata": {},
     "output_type": "display_data"
    }
   ],
   "source": [
    "SIMULATIONS = 1000\n",
    "ROUNDS_PER_AUCTION = 500\n",
    "\n",
    "data = np.zeros((SIMULATIONS, 3, ROUNDS_PER_AUCTION + 1))\n",
    "\n",
    "for i in range(SIMULATIONS):\n",
    "  players = [\n",
    "    Player(\"Increment 10\", increment_10, balance=10000),\n",
    "    Player(\"Increment 20\", increment_20, balance=10000),\n",
    "    Player(\"Increment 30\", increment_30, balance=10000),\n",
    "  ]\n",
    "\n",
    "  auction = HundredVoteAuction(players, rounds=ROUNDS_PER_AUCTION)\n",
    "  auction.run()\n",
    "\n",
    "  data[i] = auction.balances\n",
    "\n",
    "averages = np.zeros((4, ROUNDS_PER_AUCTION + 1))\n",
    "averages = np.mean(data, axis=0)\n",
    "\n",
    "auction = HundredVoteAuction(players, rounds=ROUNDS_PER_AUCTION)\n",
    "auction.balances = averages\n",
    "auction.plot()"
   ]
  },
  {
   "cell_type": "markdown",
   "metadata": {},
   "source": [
    "### Ceiling"
   ]
  },
  {
   "cell_type": "code",
   "execution_count": 380,
   "metadata": {},
   "outputs": [
    {
     "data": {
      "text/plain": [
       "(array([ 0.,  0.,  0.,  0.,  0.,  0.,  0.,  0.,  0., 10.,  0.,  0.,  0.,\n",
       "         0.,  0.,  0.,  0.,  0.,  0.,  0.,  0.,  0.,  0.,  0.,  0.,  0.,\n",
       "         0.,  0.,  0.,  0.,  0.,  0.,  0.,  0.,  0.,  0.,  0.,  0.,  0.,\n",
       "         0.,  0.,  0.,  0.,  0.,  0.,  0.,  0.,  0.,  0.,  0.,  0.,  0.,\n",
       "         0.,  0.,  0.,  0.,  0.,  0.,  0.,  0.,  0.,  0.,  0.,  0.,  0.,\n",
       "         0.,  0.,  0.,  0.,  0.,  0.,  0.,  0.,  0.,  0.,  0.,  0.,  0.,\n",
       "         0.,  0.,  0.,  0.,  0.,  0.,  0.,  0.,  0.,  0.,  0.,  0.,  0.,\n",
       "         0.,  0.,  0.,  0.,  0.,  0.,  0.,  0.,  0.]),\n",
       " array([ 0.,  0.,  0.,  0.,  0.,  0.,  0.,  0.,  0.,  0.,  0.,  0.,  0.,\n",
       "         0.,  0.,  0.,  0.,  0.,  0.,  0.,  0.,  0.,  0.,  0.,  0.,  0.,\n",
       "         0.,  0.,  0.,  0.,  0.,  0.,  0.,  0.,  0.,  0.,  0.,  0.,  0.,\n",
       "         0.,  0.,  0.,  0.,  0.,  0.,  0.,  0.,  0.,  0., 50.,  0.,  0.,\n",
       "         0.,  0.,  0.,  0.,  0.,  0.,  0.,  0.,  0.,  0.,  0.,  0.,  0.,\n",
       "         0.,  0.,  0.,  0.,  0.,  0.,  0.,  0.,  0.,  0.,  0.,  0.,  0.,\n",
       "         0.,  0.,  0.,  0.,  0.,  0.,  0.,  0.,  0.,  0.,  0.,  0.,  0.,\n",
       "         0.,  0.,  0.,  0.,  0.,  0.,  0.,  0.,  0.]),\n",
       " array([  0.,   0.,   0.,   0.,   0.,   0.,   0.,   0.,   0.,   0.,   0.,\n",
       "          0.,   0.,   0.,   0.,   0.,   0.,   0.,   0.,   0.,   0.,   0.,\n",
       "          0.,   0.,   0.,   0.,   0.,   0.,   0.,   0.,   0.,   0.,   0.,\n",
       "          0.,   0.,   0.,   0.,   0.,   0.,   0.,   0.,   0.,   0.,   0.,\n",
       "          0.,   0.,   0.,   0.,   0.,   0.,   0.,   0.,   0.,   0.,   0.,\n",
       "          0.,   0.,   0.,   0.,   0.,   0.,   0.,   0.,   0.,   0.,   0.,\n",
       "          0.,   0.,   0.,   0.,   0.,   0.,   0.,   0.,   0.,   0.,   0.,\n",
       "          0.,   0.,   0.,   0.,   0.,   0.,   0.,   0.,   0.,   0.,   0.,\n",
       "          0.,   0.,   0.,   0.,   0.,   0.,   0.,   0.,   0.,   0.,   0.,\n",
       "        100.]))"
      ]
     },
     "execution_count": 380,
     "metadata": {},
     "output_type": "execute_result"
    }
   ],
   "source": [
    "ceiling_10 = np.zeros(100)\n",
    "ceiling_10[9:10:] = 1\n",
    "\n",
    "ceiling_50 = np.zeros(100)\n",
    "ceiling_50[49:50:] = 1\n",
    "\n",
    "ceiling_99 = np.zeros(100)\n",
    "ceiling_99[99:100:] = 1\n",
    "\n",
    "ceiling_10 * pricing, ceiling_50 * pricing, ceiling_99 * pricing"
   ]
  },
  {
   "cell_type": "code",
   "execution_count": 381,
   "metadata": {},
   "outputs": [
    {
     "data": {
      "image/png": "[encoded data removed]",
      "text/plain": [
       "<Figure size 640x480 with 1 Axes>"
      ]
     },
     "metadata": {},
     "output_type": "display_data"
    },
    {
     "data": {
      "text/plain": [
       "array([  1,   0,   0,   0,   0,   0,   0,   0,   0,   0,  11,   0,   0,\n",
       "         0,   0,   0,   0,   0,   0,   0,  21,   0,   0,   0,   0,   0,\n",
       "         0,   0,   0,   0,  31,   0,   0,   0,   0,   0,   0,   0,   0,\n",
       "         0,  41,   0,   0,   0,   0,   0,   0,   0,   0,   0,  51,   0,\n",
       "         0,   0,   0,   0,   0,   0,   0,   0,   0,   0,   0,   0,   0,\n",
       "         0,   0,   0,   0,   0,   0,   0,   0,   0,   0,   0,   0,   0,\n",
       "         0,   0,   0,   0,   0,   0,   0,   0,   0,   0,   0,   0,   0,\n",
       "         0,   0,   0,   0,   0,   0,   0,   0, 100])"
      ]
     },
     "execution_count": 381,
     "metadata": {},
     "output_type": "execute_result"
    }
   ],
   "source": [
    "example_strategy= np.zeros(100)\n",
    "example_strategy[9::10] = 1\n",
    "\n",
    "players = [\n",
    "  Player(\"Alice\", example_strategy, balance=1000),\n",
    "  Player(\"Bob\", example_strategy, balance=1000),\n",
    "  Player(\"Charlie\", example_strategy, balance=1000),\n",
    "]\n",
    "\n",
    "auction = HundredVoteAuction(players, rounds=10)\n",
    "auction.run()\n",
    "auction.plot()\n",
    "\n",
    "strategy * pricing"
   ]
  },
  {
   "cell_type": "code",
   "execution_count": 382,
   "metadata": {},
   "outputs": [
    {
     "data": {
      "text/plain": [
       "(array([ 0.,  0.,  0.,  0.,  0.,  0.,  0.,  0.,  0., 10.,  0.,  0.,  0.,\n",
       "         0.,  0.,  0.,  0.,  0.,  0.,  0.,  0.,  0.,  0.,  0.,  0.,  0.,\n",
       "         0.,  0.,  0.,  0.,  0.,  0.,  0.,  0.,  0.,  0.,  0.,  0.,  0.,\n",
       "         0.,  0.,  0.,  0.,  0.,  0.,  0.,  0.,  0.,  0.,  0.,  0.,  0.,\n",
       "         0.,  0.,  0.,  0.,  0.,  0.,  0.,  0.,  0.,  0.,  0.,  0.,  0.,\n",
       "         0.,  0.,  0.,  0.,  0.,  0.,  0.,  0.,  0.,  0.,  0.,  0.,  0.,\n",
       "         0.,  0.,  0.,  0.,  0.,  0.,  0.,  0.,  0.,  0.,  0.,  0.,  0.,\n",
       "         0.,  0.,  0.,  0.,  0.,  0.,  0.,  0.,  0.]),\n",
       " array([ 0.,  0.,  0.,  0.,  0.,  0.,  0.,  0.,  0.,  0.,  0.,  0.,  0.,\n",
       "         0.,  0.,  0.,  0.,  0.,  0.,  0.,  0.,  0.,  0.,  0.,  0.,  0.,\n",
       "         0.,  0.,  0.,  0.,  0.,  0.,  0.,  0.,  0.,  0.,  0.,  0.,  0.,\n",
       "         0.,  0.,  0.,  0.,  0.,  0.,  0.,  0.,  0.,  0., 50.,  0.,  0.,\n",
       "         0.,  0.,  0.,  0.,  0.,  0.,  0.,  0.,  0.,  0.,  0.,  0.,  0.,\n",
       "         0.,  0.,  0.,  0.,  0.,  0.,  0.,  0.,  0.,  0.,  0.,  0.,  0.,\n",
       "         0.,  0.,  0.,  0.,  0.,  0.,  0.,  0.,  0.,  0.,  0.,  0.,  0.,\n",
       "         0.,  0.,  0.,  0.,  0.,  0.,  0.,  0.,  0.]),\n",
       " array([  0.,   0.,   0.,   0.,   0.,   0.,   0.,   0.,   0.,   0.,   0.,\n",
       "          0.,   0.,   0.,   0.,   0.,   0.,   0.,   0.,   0.,   0.,   0.,\n",
       "          0.,   0.,   0.,   0.,   0.,   0.,   0.,   0.,   0.,   0.,   0.,\n",
       "          0.,   0.,   0.,   0.,   0.,   0.,   0.,   0.,   0.,   0.,   0.,\n",
       "          0.,   0.,   0.,   0.,   0.,   0.,   0.,   0.,   0.,   0.,   0.,\n",
       "          0.,   0.,   0.,   0.,   0.,   0.,   0.,   0.,   0.,   0.,   0.,\n",
       "          0.,   0.,   0.,   0.,   0.,   0.,   0.,   0.,   0.,   0.,   0.,\n",
       "          0.,   0.,   0.,   0.,   0.,   0.,   0.,   0.,   0.,   0.,   0.,\n",
       "          0.,   0.,   0.,   0.,   0.,   0.,   0.,   0.,   0.,   0.,   0.,\n",
       "        100.]))"
      ]
     },
     "execution_count": 382,
     "metadata": {},
     "output_type": "execute_result"
    }
   ],
   "source": [
    "ceiling_10 = np.zeros(100)\n",
    "ceiling_10[9:10:] = 1\n",
    "\n",
    "ceiling_50 = np.zeros(100)\n",
    "ceiling_50[49:50:] = 1\n",
    "\n",
    "ceiling_99 = np.zeros(100)\n",
    "ceiling_99[99:100:] = 1\n",
    "\n",
    "ceiling_10 * pricing, ceiling_50 * pricing, ceiling_99 * pricing"
   ]
  },
  {
   "cell_type": "code",
   "execution_count": 383,
   "metadata": {},
   "outputs": [],
   "source": [
    "def strategy_to_bids(strategy):\n",
    "  bids = strategy * pricing\n",
    "  bids = bids[bids > 0]\n",
    "\n",
    "  return bids\n",
    "\n",
    "def bids_to_strategy(bids):\n",
    "  strategy = np.zeros(100, dtype=int)\n",
    "  strategy[bids - 1] = 1\n",
    "\n",
    "  return strategy"
   ]
  },
  {
   "cell_type": "code",
   "execution_count": 394,
   "metadata": {},
   "outputs": [],
   "source": [
    "S00 = np.zeros(100).astype(int)\n",
    "\n",
    "S0 = np.zeros(100).astype(int)\n",
    "S0[0] = 1\n",
    "S0[-1] = 1\n",
    "\n",
    "S1 = np.zeros(100).astype(int)\n",
    "S1[0] = 1\n",
    "S1[9::10] = 1\n",
    "\n",
    "S2 = np.zeros(100).astype(int)\n",
    "S2[0] = 1\n",
    "S2[24::25] = 1\n",
    "\n",
    "S3 = np.zeros(100).astype(int)\n",
    "S3[0] = 1\n",
    "S3[32::33] = 1"
   ]
  },
  {
   "cell_type": "code",
   "execution_count": 385,
   "metadata": {},
   "outputs": [],
   "source": [
    "bids = strategy_to_bids(S1)\n",
    "strategy = bids_to_strategy(bids)"
   ]
  },
  {
   "cell_type": "code",
   "execution_count": 395,
   "metadata": {},
   "outputs": [
    {
     "name": "stdout",
     "output_type": "stream",
     "text": [
      "Remaining strategies:\n",
      "Strategy 0: [  1 100]\n",
      "Strategy 1: [  1 100]\n",
      "Strategy 2: [  1 100]\n",
      "Strategy 3: [  1 100]\n",
      "Strategy 4: [  1 100]\n",
      "Strategy 5: [  1 100]\n",
      "Strategy 6: [  1 100]\n",
      "Strategy 7: [  1 100]\n",
      "Strategy 8: [  1 100]\n"
     ]
    }
   ],
   "source": [
    "BATTLES = 100\n",
    "ROUNDS_PER_BATTLE = 100\n",
    "STARTING_BALANCE = 1000\n",
    "\n",
    "strategies = [\n",
    "  S0,\n",
    "  S1, S1, S1, S1, S1,\n",
    "  S2, S2, S2, S2, S2,\n",
    "  S3, S3, S3, S3, S3,\n",
    "]\n",
    "\n",
    "\n",
    "strategies = [\n",
    "  S00, S00, S00, S00,\n",
    "  S0, S0, S0, S0, S0,\n",
    "]\n",
    "\n",
    "for _ in range(BATTLES):\n",
    "  battle = random.sample(list(enumerate(strategies)), 2)\n",
    "\n",
    "  players = [\n",
    "    Player(f\"Strategy {battle[0][0]}\", battle[0][1], balance=STARTING_BALANCE),\n",
    "    Player(f\"Strategy {battle[1][0]}\", battle[1][1], balance=STARTING_BALANCE),\n",
    "  ]\n",
    "\n",
    "  auction = HundredVoteAuction(\n",
    "    players=players,\n",
    "    rounds=ROUNDS_PER_BATTLE\n",
    "  )\n",
    "  auction.run()\n",
    "\n",
    "  if players[0].balance > players[1].balance:\n",
    "    strategies[battle[1][0]] = battle[0][1]\n",
    "  else:\n",
    "    strategies[battle[0][0]] = battle[1][1]\n",
    "\n",
    "print(f\"Remaining strategies:\")\n",
    "for i, strategy in enumerate(strategies):\n",
    "  print(f\"Strategy {i}: {strategy_to_bids(strategy)}\")"
   ]
  },
  {
   "cell_type": "code",
   "execution_count": 387,
   "metadata": {},
   "outputs": [
    {
     "name": "stdout",
     "output_type": "stream",
     "text": [
      "Player: [1. 0. 0. 0. 0. 0. 0. 0. 0. 0. 0. 0. 0. 0. 0. 0. 0. 0. 0. 0. 0. 0. 0. 0.\n",
      " 0. 0. 0. 0. 0. 0. 0. 0. 0. 0. 0. 0. 0. 0. 0. 0. 0. 0. 0. 0. 0. 0. 0. 0.\n",
      " 0. 0. 0. 0. 0. 0. 0. 0. 0. 0. 0. 0. 0. 0. 0. 0. 0. 0. 0. 0. 0. 0. 0. 0.\n",
      " 0. 0. 0. 0. 0. 0. 0. 0. 0. 0. 0. 0. 0. 0. 0. 0. 0. 0. 0. 0. 0. 0. 0. 0.\n",
      " 0. 0. 0. 1.]\n",
      "Opponent: [1 0 0 0 0 0 0 0 0 1 0 0 0 0 0 0 0 0 0 1 0 0 0 0 0 0 0 0 0 1 0 0 0 0 0 0 0\n",
      " 0 0 1 0 0 0 0 0 0 0 0 0 1 0 0 0 0 0 0 0 0 0 1 0 0 0 0 0 0 0 0 0 1 0 0 0 0\n",
      " 0 0 0 0 0 1 0 0 0 0 0 0 0 0 0 1 0 0 0 0 0 0 0 0 0 1]\n",
      "Player: [1. 0. 0. 0. 0. 0. 0. 0. 0. 0. 0. 0. 0. 0. 0. 0. 0. 0. 0. 0. 0. 0. 0. 0.\n",
      " 0. 0. 0. 0. 0. 0. 0. 0. 0. 0. 0. 0. 0. 0. 0. 0. 0. 0. 0. 0. 0. 0. 0. 0.\n",
      " 0. 0. 0. 0. 0. 0. 0. 0. 0. 0. 0. 0. 0. 0. 0. 0. 0. 0. 0. 0. 0. 0. 0. 0.\n",
      " 0. 0. 0. 0. 0. 0. 0. 0. 0. 0. 0. 0. 0. 0. 0. 0. 0. 0. 0. 0. 0. 0. 0. 0.\n",
      " 0. 0. 0. 1.]\n",
      "Opponent: [1 0 0 0 0 0 0 0 0 0 0 0 0 0 0 0 0 0 0 0 0 0 0 0 1 0 0 0 0 0 0 0 0 0 0 0 0\n",
      " 0 0 0 0 0 0 0 0 0 0 0 0 1 0 0 0 0 0 0 0 0 0 0 0 0 0 0 0 0 0 0 0 0 0 0 0 0\n",
      " 1 0 0 0 0 0 0 0 0 0 0 0 0 0 0 0 0 0 0 0 0 0 0 0 0 1]\n",
      "Player: [1. 0. 0. 0. 0. 0. 0. 0. 0. 0. 0. 0. 0. 0. 0. 0. 0. 0. 0. 0. 0. 0. 0. 0.\n",
      " 0. 0. 0. 0. 0. 0. 0. 0. 0. 0. 0. 0. 0. 0. 0. 0. 0. 0. 0. 0. 0. 0. 0. 0.\n",
      " 0. 0. 0. 0. 0. 0. 0. 0. 0. 0. 0. 0. 0. 0. 0. 0. 0. 0. 0. 0. 0. 0. 0. 0.\n",
      " 0. 0. 0. 0. 0. 0. 0. 0. 0. 0. 0. 0. 0. 0. 0. 0. 0. 0. 0. 0. 0. 0. 0. 0.\n",
      " 0. 0. 0. 1.]\n",
      "Opponent: [1 0 0 0 0 0 0 0 0 0 0 0 0 0 0 0 0 0 0 0 0 0 0 0 0 0 0 0 0 0 0 0 1 0 0 0 0\n",
      " 0 0 0 0 0 0 0 0 0 0 0 0 0 0 0 0 0 0 0 0 0 0 0 0 0 0 0 0 1 0 0 0 0 0 0 0 0\n",
      " 0 0 0 0 0 0 0 0 0 0 0 0 0 0 0 0 0 0 0 0 0 0 0 0 1 0]\n"
     ]
    }
   ],
   "source": [
    "battle_strategies = [S1, S2, S3]\n",
    "\n",
    "def fitness(player_strategy):\n",
    "  for opponent_strategy in battle_strategies:\n",
    "    print(f\"Player: {player_strategy}\")\n",
    "    print(f\"Opponent: {opponent_strategy}\")\n",
    "\n",
    "    players = [\n",
    "      Player(\"Strategy\", player_strategy, balance=1000),\n",
    "      Player(\"Opponent\", opponent_strategy, balance=1000),\n",
    "    ]\n",
    "\n",
    "    auction = HundredVoteAuction(players, rounds=100)\n",
    "    auction.run()\n",
    "\n",
    "yumeko = np.zeros(100)\n",
    "yumeko[0] = 1\n",
    "yumeko[-1] = 1\n",
    "\n",
    "fitness(yumeko)"
   ]
  }
 ],
 "metadata": {
  "kernelspec": {
   "display_name": "Python 3",
   "language": "python",
   "name": "python3"
  },
  "language_info": {
   "codemirror_mode": {
    "name": "ipython",
    "version": 3
   },
   "file_extension": ".py",
   "mimetype": "text/x-python",
   "name": "python",
   "nbconvert_exporter": "python",
   "pygments_lexer": "ipython3",
   "version": "3.9.6"
  }
 },
 "nbformat": 4,
 "nbformat_minor": 2
}
