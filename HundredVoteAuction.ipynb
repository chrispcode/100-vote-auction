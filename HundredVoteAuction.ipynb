{
 "cells": [
  {
   "cell_type": "code",
   "execution_count": 129,
   "metadata": {},
   "outputs": [],
   "source": [
    "import random\n",
    "import numpy as np\n",
    "import matplotlib.pyplot as plt\n",
    "\n",
    "np.set_printoptions(suppress=True)"
   ]
  },
  {
   "cell_type": "markdown",
   "metadata": {},
   "source": [
    "Let's create a vector containing the price for placing a bid at each node of an auction lot."
   ]
  },
  {
   "cell_type": "code",
   "execution_count": 130,
   "metadata": {},
   "outputs": [
    {
     "data": {
      "text/plain": [
       "array([  1,   2,   3,   4,   5,   6,   7,   8,   9,  10,  11,  12,  13,\n",
       "        14,  15,  16,  17,  18,  19,  20,  21,  22,  23,  24,  25,  26,\n",
       "        27,  28,  29,  30,  31,  32,  33,  34,  35,  36,  37,  38,  39,\n",
       "        40,  41,  42,  43,  44,  45,  46,  47,  48,  49,  50,  51,  52,\n",
       "        53,  54,  55,  56,  57,  58,  59,  60,  61,  62,  63,  64,  65,\n",
       "        66,  67,  68,  69,  70,  71,  72,  73,  74,  75,  76,  77,  78,\n",
       "        79,  80,  81,  82,  83,  84,  85,  86,  87,  88,  89,  90,  91,\n",
       "        92,  93,  94,  95,  96,  97,  98,  99, 100])"
      ]
     },
     "execution_count": 130,
     "metadata": {},
     "output_type": "execute_result"
    }
   ],
   "source": [
    "pricing = np.arange(1, 101)\n",
    "pricing"
   ]
  },
  {
   "cell_type": "markdown",
   "metadata": {},
   "source": [
    "We will use `pricing` in conjunction with a player's `strategy` to determine each player's next bids. A strategy is a vector of 0s and 1s that determins the next bid positions for a player. By defining it like so, we could utilize evolutionary genetic algorithms easily. We can cross 2 strategies together, by taking half of one and half of another to produce an offspring. We can also mutate easily, by randomly taking an index and changing it from 0 to 1 or vice-versa.\n"
   ]
  },
  {
   "cell_type": "code",
   "execution_count": 131,
   "metadata": {},
   "outputs": [
    {
     "data": {
      "text/plain": [
       "array([1, 0, 0, 0, 0, 0, 0, 0, 0, 0, 1, 0, 0, 0, 0, 0, 0, 0, 0, 0, 1, 0,\n",
       "       0, 0, 0, 0, 0, 0, 0, 0, 1, 0, 0, 0, 0, 0, 0, 0, 0, 0, 1, 0, 0, 0,\n",
       "       0, 0, 0, 0, 0, 0, 1, 0, 0, 0, 0, 0, 0, 0, 0, 0, 0, 0, 0, 0, 0, 0,\n",
       "       0, 0, 0, 0, 0, 0, 0, 0, 0, 0, 0, 0, 0, 0, 0, 0, 0, 0, 0, 0, 0, 0,\n",
       "       0, 0, 0, 0, 0, 0, 0, 0, 0, 0, 0, 1])"
      ]
     },
     "execution_count": 131,
     "metadata": {},
     "output_type": "execute_result"
    }
   ],
   "source": [
    "strategy = np.zeros(100, dtype=int)\n",
    "strategy[0] = 1 # player would like to bid to node 0 [price = 1]\n",
    "\n",
    "# player would like to bid\n",
    "# until node 50 [price = 51],\n",
    "# incrementing each time by 10\n",
    "strategy[0:51:10] = 1\n",
    "\n",
    "strategy[-1] = 1 # player would like to bid to node 99 [price = 100]\n",
    "\n",
    "strategy"
   ]
  },
  {
   "cell_type": "markdown",
   "metadata": {},
   "source": [
    "By multiplying the strategy and pricing vectors we can extract the nodes that the user would like to end at. Additionaly, removing all zero-elements will improve computation speed."
   ]
  },
  {
   "cell_type": "code",
   "execution_count": 132,
   "metadata": {},
   "outputs": [
    {
     "data": {
      "text/plain": [
       "array([  1,  11,  21,  31,  41,  51, 100])"
      ]
     },
     "execution_count": 132,
     "metadata": {},
     "output_type": "execute_result"
    }
   ],
   "source": [
    "bids = strategy * pricing\n",
    "bids = bids[bids > 0]\n",
    "\n",
    "bids"
   ]
  },
  {
   "cell_type": "markdown",
   "metadata": {},
   "source": [
    "We can easily convert from bids to strategy and vice-versa, so we might as well define some helper function for those purposes.\n",
    "\n",
    "We will convert bids and strategies and vice-versa often, so we might as well define some helper functions to do so.\n"
   ]
  },
  {
   "cell_type": "code",
   "execution_count": 133,
   "metadata": {},
   "outputs": [],
   "source": [
    "def strategy_to_bids(strategy):\n",
    "  bids = strategy * pricing\n",
    "  bids = bids[bids > 0]\n",
    "\n",
    "  return bids\n",
    "\n",
    "def bids_to_strategy(bids):\n",
    "  strategy = np.zeros(100, dtype=int)\n",
    "  strategy[bids - 1] = 1\n",
    "\n",
    "  return strategy"
   ]
  },
  {
   "cell_type": "markdown",
   "metadata": {},
   "source": [
    "Based on the current bid, we can see if the player would like to raise to a higher bid by doing so"
   ]
  },
  {
   "cell_type": "code",
   "execution_count": 134,
   "metadata": {},
   "outputs": [
    {
     "data": {
      "text/plain": [
       "51"
      ]
     },
     "execution_count": 134,
     "metadata": {},
     "output_type": "execute_result"
    }
   ],
   "source": [
    "current_bid = 50 \n",
    "\n",
    "next_bid = np.min(bids[bids > current_bid], initial=404)\n",
    "\n",
    "next_bid"
   ]
  },
  {
   "cell_type": "markdown",
   "metadata": {},
   "source": [
    "If there isn't a bid higher than the current bid, the np.min function will return 404 (initial=404). This is a way to handle the case where the player doens't any higher response bids left."
   ]
  },
  {
   "cell_type": "code",
   "execution_count": 135,
   "metadata": {},
   "outputs": [
    {
     "data": {
      "text/plain": [
       "404"
      ]
     },
     "execution_count": 135,
     "metadata": {},
     "output_type": "execute_result"
    }
   ],
   "source": [
    "current_bid = 100\n",
    "\n",
    "# return next_bid in the sequence, \n",
    "# if none is found return 404\n",
    "next_bid = np.min(bids[bids > current_bid], initial=404)\n",
    "\n",
    "next_bid"
   ]
  },
  {
   "cell_type": "markdown",
   "metadata": {},
   "source": [
    "Let's define a `Player` class for our game. Each player would have an id, strategy, balance and a method for retrieving his next bid."
   ]
  },
  {
   "cell_type": "code",
   "execution_count": 136,
   "metadata": {},
   "outputs": [],
   "source": [
    "class Player:\n",
    "  def __init__(self, id, strategy, balance):\n",
    "    self.id = id\n",
    "    self.balance = balance\n",
    "    self.strategy = strategy\n",
    "    self.bids = strategy_to_bids(strategy)\n",
    "\n",
    "  def get_next_bid(self, lot):\n",
    "    # Don't bid agains yourself\n",
    "    if lot.current_bid_owner is not None and self.id == lot.current_bid_owner.id:\n",
    "      return None\n",
    "\n",
    "    bids = self.bids\n",
    "\n",
    "    next_bid = np.min(\n",
    "      bids[bids > lot.current_bid],\n",
    "      initial=404\n",
    "    )\n",
    "\n",
    "    # Ceiling reached\n",
    "    if next_bid == 404:\n",
    "      return None\n",
    "    \n",
    "    # Not enough in balance to cover\n",
    "    if self.balance < next_bid:\n",
    "      return None\n",
    "    \n",
    "    return next_bid"
   ]
  },
  {
   "cell_type": "markdown",
   "metadata": {},
   "source": [
    "Let's define a `HundredVoteLot`. A lot is a single rounds of our game. Each lot places 100 votes for auction, and players utilize their strategies to win the 100 votes."
   ]
  },
  {
   "cell_type": "code",
   "execution_count": 137,
   "metadata": {},
   "outputs": [],
   "source": [
    "class HundredVoteLot:\n",
    "  current_bid = 0\n",
    "  current_bid_owner: Player = None\n",
    "\n",
    "  def __init__(self, players: list[Player]):\n",
    "    self.players = random.sample(players, len(players))\n",
    "\n",
    "  def run(self):\n",
    "    self.history = []\n",
    "\n",
    "    abstain_counter = 0\n",
    "\n",
    "    while abstain_counter < len(self.players):\n",
    "      for player in self.players:\n",
    "        next_bid = player.get_next_bid(self)\n",
    "\n",
    "        if next_bid is None:\n",
    "          abstain_counter += 1\n",
    "        else:\n",
    "          abstain_counter = 0\n",
    "          self.current_bid = next_bid\n",
    "          self.current_bid_owner = player\n",
    "\n",
    "          player.balance -= next_bid\n",
    "        \n",
    "        self.history.append((player.id, next_bid))\n",
    "    \n",
    "    if self.current_bid_owner is not None:\n",
    "      self.current_bid_owner.balance += 100"
   ]
  },
  {
   "cell_type": "markdown",
   "metadata": {},
   "source": [
    "Let's define an example strategy and then run a lot of 2 players utilizing the same strategy. "
   ]
  },
  {
   "cell_type": "code",
   "execution_count": 138,
   "metadata": {},
   "outputs": [
    {
     "name": "stdout",
     "output_type": "stream",
     "text": [
      "Players will bid to [ 1 25 50]\n"
     ]
    }
   ],
   "source": [
    "example_strategy = bids_to_strategy(np.array([1, 25, 50]))\n",
    "\n",
    "print(\"Players will bid to\", strategy_to_bids(example_strategy))"
   ]
  },
  {
   "cell_type": "code",
   "execution_count": 139,
   "metadata": {},
   "outputs": [
    {
     "name": "stdout",
     "output_type": "stream",
     "text": [
      "2 players play for 100 votes...\n",
      "History [(player.id, player.bid)]: \n",
      "[('Alice', 1), ('Bob', 25), ('Alice', 50), ('Bob', None), ('Alice', None), ('Bob', None)]\n",
      "Alice has a balance of 1049 votes\n",
      "Bob has a balance of 975 votes\n"
     ]
    }
   ],
   "source": [
    "players = [\n",
    "  Player(\"Alice\", example_strategy, balance=1000),\n",
    "  Player(\"Bob\", example_strategy, balance=1000),\n",
    "]\n",
    "\n",
    "lot = HundredVoteLot(players)\n",
    "lot.run()\n",
    "\n",
    "print(f\"{len(players)} players play for 100 votes...\")\n",
    "print(f\"History [(player.id, player.bid)]: \\n{lot.history}\")\n",
    "\n",
    "for player in players:\n",
    "  print(f\"{player.id} has a balance of {player.balance} votes\")"
   ]
  },
  {
   "cell_type": "markdown",
   "metadata": {},
   "source": [
    "Let's define our game - `HundredVoteAuction`. A HundredVoteAuction is a repeating HundredVoteLot, where the each players balance gets persisted to the next lot."
   ]
  },
  {
   "cell_type": "code",
   "execution_count": 140,
   "metadata": {},
   "outputs": [],
   "source": [
    "class HundredVoteAuction:\n",
    "  def __init__(self, players: list[Player], lots: int):\n",
    "    self.players = players\n",
    "    self.lots = lots\n",
    "    self.history = []\n",
    "    self.balances = np.zeros((len(players), lots + 1))\n",
    "\n",
    "  def run(self):\n",
    "    self.balances[:, 0] = [player.balance for player in players]\n",
    "\n",
    "    for lot_number in range(1, self.lots + 1):\n",
    "      lot = HundredVoteLot(self.players)\n",
    "      lot.run()\n",
    "\n",
    "      self.history.append(lot.history)\n",
    "\n",
    "      for i, player in enumerate(self.players):\n",
    "        self.balances[i][lot_number] = player.balance\n",
    "\n",
    "  def plot(self):\n",
    "    for i, player in enumerate(self.players):\n",
    "      plt.plot(self.balances[i], label=f'{player.id}')\n",
    "    \n",
    "    plt.xlabel('Game #')\n",
    "    plt.ylabel('Player\\'s Balance')\n",
    "    plt.legend()\n",
    "    plt.show()"
   ]
  },
  {
   "cell_type": "markdown",
   "metadata": {},
   "source": [
    "Let's run a HundredVoteAuction, with 3 players utilizing the samee strategy. "
   ]
  },
  {
   "cell_type": "code",
   "execution_count": 141,
   "metadata": {},
   "outputs": [
    {
     "data": {
      "image/png": "[encoded data removed]",
      "text/plain": [
       "<Figure size 640x480 with 1 Axes>"
      ]
     },
     "metadata": {},
     "output_type": "display_data"
    }
   ],
   "source": [
    "# Start at 10 (9+1),\n",
    "# incrementing by 10 each time\n",
    "# until the end (100)\n",
    "example_strategy= np.zeros(100)\n",
    "example_strategy[9::10] = 1\n",
    "\n",
    "players = [\n",
    "  Player(\"Alice\", example_strategy, balance=1000),\n",
    "  Player(\"Bob\", example_strategy, balance=1000),\n",
    "  Player(\"Charlie\", example_strategy, balance=1000),\n",
    "]\n",
    "\n",
    "auction = HundredVoteAuction(players, lots=10)\n",
    "auction.run()\n",
    "auction.plot()"
   ]
  },
  {
   "cell_type": "markdown",
   "metadata": {},
   "source": [
    "Let's run a couple of simulation to determine what type of strategy get's ahead, by changing only one variable at a time (balance, ceiling, increment)"
   ]
  },
  {
   "cell_type": "markdown",
   "metadata": {},
   "source": [
    "### Increment (Bid Delta)\n",
    "\n",
    "Assumption - if all players have the same ceiling, then the player with the least steps to get to that ceiling has an advantage. This would be the player with the highest increment. This comes from the design of the game which requires each placed bid to be payed immediately. Larger increments get you to that target ceiling with a lower investment."
   ]
  },
  {
   "cell_type": "code",
   "execution_count": 142,
   "metadata": {},
   "outputs": [],
   "source": [
    "bids_5 = np.array([1, 5, 10, 15, 20, 25, 30, 35, 40, 45, 50 ])\n",
    "bids_10 = np.array([1, 10, 20, 30, 40, 50, ])\n",
    "bids_25= np.array([1, 25, 50])"
   ]
  },
  {
   "cell_type": "code",
   "execution_count": 143,
   "metadata": {},
   "outputs": [
    {
     "data": {
      "image/png": "[encoded data removed]",
      "text/plain": [
       "<Figure size 640x480 with 1 Axes>"
      ]
     },
     "metadata": {},
     "output_type": "display_data"
    }
   ],
   "source": [
    "SIMULATIONS = 1000\n",
    "LOTS_PER_AUCTION = 100\n",
    "\n",
    "data = np.zeros((SIMULATIONS, 3, LOTS_PER_AUCTION + 1))\n",
    "\n",
    "for i in range(SIMULATIONS):\n",
    "  players = [\n",
    "    Player(\"Bid by 5\", bids_to_strategy(bids_5), balance=10000),\n",
    "    Player(\"Bid by 10\", bids_to_strategy(bids_10), balance=10000),\n",
    "    Player(\"Bid by 25\", bids_to_strategy(bids_25), balance=10000),\n",
    "  ]\n",
    "\n",
    "  auction = HundredVoteAuction(players, lots=LOTS_PER_AUCTION)\n",
    "  auction.run()\n",
    "\n",
    "  data[i] = auction.balances\n",
    "\n",
    "averages = np.zeros((4, LOTS_PER_AUCTION + 1))\n",
    "averages = np.mean(data, axis=0)\n",
    "\n",
    "auction = HundredVoteAuction(players, lots=LOTS_PER_AUCTION)\n",
    "auction.balances = averages\n",
    "auction.plot()"
   ]
  },
  {
   "cell_type": "markdown",
   "metadata": {},
   "source": [
    "### Balance\n",
    "\n",
    "Assumption - if all players utilize the exact same strategy, then the player with the highest balance would come ontop, because it can compete with other players for more lots, when others slowly run out of votes."
   ]
  },
  {
   "cell_type": "code",
   "execution_count": 144,
   "metadata": {},
   "outputs": [
    {
     "data": {
      "text/plain": [
       "array([0, 1, 0, 1, 0, 0, 0, 0, 1, 0, 0, 1, 1, 0, 1, 1, 0, 0, 1, 0, 0, 0,\n",
       "       0, 1, 1, 1, 0, 1, 0, 0, 0, 1, 1, 1, 1, 0, 1, 1, 0, 1, 0, 1, 0, 1,\n",
       "       1, 1, 0, 1, 1, 1, 1, 1, 0, 1, 1, 0, 1, 0, 0, 1, 0, 0, 0, 0, 0, 0,\n",
       "       1, 0, 0, 0, 1, 0, 0, 0, 1, 0, 0, 0, 1, 0, 0, 1, 1, 0, 0, 0, 0, 1,\n",
       "       1, 0, 0, 0, 1, 0, 0, 0, 0, 0, 1, 1])"
      ]
     },
     "execution_count": 144,
     "metadata": {},
     "output_type": "execute_result"
    }
   ],
   "source": [
    "random_strategy = np.random.randint(0, 2, 100) \n",
    "\n",
    "random_strategy"
   ]
  },
  {
   "cell_type": "code",
   "execution_count": 150,
   "metadata": {},
   "outputs": [
    {
     "data": {
      "image/png": "[encoded data removed]",
      "text/plain": [
       "<Figure size 640x480 with 1 Axes>"
      ]
     },
     "metadata": {},
     "output_type": "display_data"
    }
   ],
   "source": [
    "SIMULATIONS = 1000\n",
    "LOTS_PER_AUCTION = 100\n",
    "\n",
    "data = np.zeros((SIMULATIONS, 3, LOTS_PER_AUCTION + 1))\n",
    "\n",
    "for i in range(SIMULATIONS):\n",
    "  players = [\n",
    "    Player(\"Random (10 000)\", random_strategy, balance=10000),\n",
    "    Player(\"Random (5 000)\", random_strategy, balance=5000),\n",
    "    Player(\"Random (2 500)\", random_strategy, balance=2500),\n",
    "  ]\n",
    "\n",
    "  auction = HundredVoteAuction(players, lots=LOTS_PER_AUCTION)\n",
    "  auction.run()\n",
    "\n",
    "  data[i] = auction.balances\n",
    "\n",
    "averages = np.zeros((3, LOTS_PER_AUCTION + 1))\n",
    "averages = np.mean(data, axis=0)\n",
    "\n",
    "auction = HundredVoteAuction(players, lots=LOTS_PER_AUCTION)\n",
    "auction.balances = averages\n",
    "auction.plot()"
   ]
  },
  {
   "cell_type": "markdown",
   "metadata": {},
   "source": [
    "### Bid Distance\n",
    "\n"
   ]
  },
  {
   "cell_type": "code",
   "execution_count": 146,
   "metadata": {},
   "outputs": [],
   "source": [
    "base_bids = [1, 100]\n",
    "\n"
   ]
  },
  {
   "cell_type": "markdown",
   "metadata": {},
   "source": [
    "### Ceiling"
   ]
  },
  {
   "cell_type": "code",
   "execution_count": 147,
   "metadata": {},
   "outputs": [
    {
     "data": {
      "text/plain": [
       "(array([ 0.,  0.,  0.,  0.,  0.,  0.,  0.,  0.,  0., 10.,  0.,  0.,  0.,\n",
       "         0.,  0.,  0.,  0.,  0.,  0.,  0.,  0.,  0.,  0.,  0.,  0.,  0.,\n",
       "         0.,  0.,  0.,  0.,  0.,  0.,  0.,  0.,  0.,  0.,  0.,  0.,  0.,\n",
       "         0.,  0.,  0.,  0.,  0.,  0.,  0.,  0.,  0.,  0.,  0.,  0.,  0.,\n",
       "         0.,  0.,  0.,  0.,  0.,  0.,  0.,  0.,  0.,  0.,  0.,  0.,  0.,\n",
       "         0.,  0.,  0.,  0.,  0.,  0.,  0.,  0.,  0.,  0.,  0.,  0.,  0.,\n",
       "         0.,  0.,  0.,  0.,  0.,  0.,  0.,  0.,  0.,  0.,  0.,  0.,  0.,\n",
       "         0.,  0.,  0.,  0.,  0.,  0.,  0.,  0.,  0.]),\n",
       " array([ 0.,  0.,  0.,  0.,  0.,  0.,  0.,  0.,  0.,  0.,  0.,  0.,  0.,\n",
       "         0.,  0.,  0.,  0.,  0.,  0.,  0.,  0.,  0.,  0.,  0.,  0.,  0.,\n",
       "         0.,  0.,  0.,  0.,  0.,  0.,  0.,  0.,  0.,  0.,  0.,  0.,  0.,\n",
       "         0.,  0.,  0.,  0.,  0.,  0.,  0.,  0.,  0.,  0., 50.,  0.,  0.,\n",
       "         0.,  0.,  0.,  0.,  0.,  0.,  0.,  0.,  0.,  0.,  0.,  0.,  0.,\n",
       "         0.,  0.,  0.,  0.,  0.,  0.,  0.,  0.,  0.,  0.,  0.,  0.,  0.,\n",
       "         0.,  0.,  0.,  0.,  0.,  0.,  0.,  0.,  0.,  0.,  0.,  0.,  0.,\n",
       "         0.,  0.,  0.,  0.,  0.,  0.,  0.,  0.,  0.]),\n",
       " array([  0.,   0.,   0.,   0.,   0.,   0.,   0.,   0.,   0.,   0.,   0.,\n",
       "          0.,   0.,   0.,   0.,   0.,   0.,   0.,   0.,   0.,   0.,   0.,\n",
       "          0.,   0.,   0.,   0.,   0.,   0.,   0.,   0.,   0.,   0.,   0.,\n",
       "          0.,   0.,   0.,   0.,   0.,   0.,   0.,   0.,   0.,   0.,   0.,\n",
       "          0.,   0.,   0.,   0.,   0.,   0.,   0.,   0.,   0.,   0.,   0.,\n",
       "          0.,   0.,   0.,   0.,   0.,   0.,   0.,   0.,   0.,   0.,   0.,\n",
       "          0.,   0.,   0.,   0.,   0.,   0.,   0.,   0.,   0.,   0.,   0.,\n",
       "          0.,   0.,   0.,   0.,   0.,   0.,   0.,   0.,   0.,   0.,   0.,\n",
       "          0.,   0.,   0.,   0.,   0.,   0.,   0.,   0.,   0.,   0.,   0.,\n",
       "        100.]))"
      ]
     },
     "execution_count": 147,
     "metadata": {},
     "output_type": "execute_result"
    }
   ],
   "source": [
    "ceiling_10 = np.zeros(100)\n",
    "ceiling_10[9:10:] = 1\n",
    "\n",
    "ceiling_50 = np.zeros(100)\n",
    "ceiling_50[49:50:] = 1\n",
    "\n",
    "ceiling_99 = np.zeros(100)\n",
    "ceiling_99[99:100:] = 1\n",
    "\n",
    "ceiling_10 * pricing, ceiling_50 * pricing, ceiling_99 * pricing"
   ]
  },
  {
   "cell_type": "code",
   "execution_count": 148,
   "metadata": {},
   "outputs": [
    {
     "ename": "TypeError",
     "evalue": "__init__() got an unexpected keyword argument 'rounds'",
     "output_type": "error",
     "traceback": [
      "\u001b[0;31m---------------------------------------------------------------------------\u001b[0m",
      "\u001b[0;31mTypeError\u001b[0m                                 Traceback (most recent call last)",
      "Cell \u001b[0;32mIn[148], line 10\u001b[0m\n\u001b[1;32m      2\u001b[0m example_strategy[\u001b[38;5;241m9\u001b[39m::\u001b[38;5;241m10\u001b[39m] \u001b[38;5;241m=\u001b[39m \u001b[38;5;241m1\u001b[39m\n\u001b[1;32m      4\u001b[0m players \u001b[38;5;241m=\u001b[39m [\n\u001b[1;32m      5\u001b[0m   Player(\u001b[38;5;124m\"\u001b[39m\u001b[38;5;124mAlice\u001b[39m\u001b[38;5;124m\"\u001b[39m, example_strategy, balance\u001b[38;5;241m=\u001b[39m\u001b[38;5;241m1000\u001b[39m),\n\u001b[1;32m      6\u001b[0m   Player(\u001b[38;5;124m\"\u001b[39m\u001b[38;5;124mBob\u001b[39m\u001b[38;5;124m\"\u001b[39m, example_strategy, balance\u001b[38;5;241m=\u001b[39m\u001b[38;5;241m1000\u001b[39m),\n\u001b[1;32m      7\u001b[0m   Player(\u001b[38;5;124m\"\u001b[39m\u001b[38;5;124mCharlie\u001b[39m\u001b[38;5;124m\"\u001b[39m, example_strategy, balance\u001b[38;5;241m=\u001b[39m\u001b[38;5;241m1000\u001b[39m),\n\u001b[1;32m      8\u001b[0m ]\n\u001b[0;32m---> 10\u001b[0m auction \u001b[38;5;241m=\u001b[39m \u001b[43mHundredVoteAuction\u001b[49m\u001b[43m(\u001b[49m\u001b[43mplayers\u001b[49m\u001b[43m,\u001b[49m\u001b[43m \u001b[49m\u001b[43mrounds\u001b[49m\u001b[38;5;241;43m=\u001b[39;49m\u001b[38;5;241;43m10\u001b[39;49m\u001b[43m)\u001b[49m\n\u001b[1;32m     11\u001b[0m auction\u001b[38;5;241m.\u001b[39mrun()\n\u001b[1;32m     12\u001b[0m auction\u001b[38;5;241m.\u001b[39mplot()\n",
      "\u001b[0;31mTypeError\u001b[0m: __init__() got an unexpected keyword argument 'rounds'"
     ]
    }
   ],
   "source": [
    "example_strategy= np.zeros(100)\n",
    "example_strategy[9::10] = 1\n",
    "\n",
    "players = [\n",
    "  Player(\"Alice\", example_strategy, balance=1000),\n",
    "  Player(\"Bob\", example_strategy, balance=1000),\n",
    "  Player(\"Charlie\", example_strategy, balance=1000),\n",
    "]\n",
    "\n",
    "auction = HundredVoteAuction(players, rounds=10)\n",
    "auction.run()\n",
    "auction.plot()\n",
    "\n",
    "strategy * pricing"
   ]
  },
  {
   "cell_type": "code",
   "execution_count": null,
   "metadata": {},
   "outputs": [
    {
     "data": {
      "text/plain": [
       "(array([ 0.,  0.,  0.,  0.,  0.,  0.,  0.,  0.,  0., 10.,  0.,  0.,  0.,\n",
       "         0.,  0.,  0.,  0.,  0.,  0.,  0.,  0.,  0.,  0.,  0.,  0.,  0.,\n",
       "         0.,  0.,  0.,  0.,  0.,  0.,  0.,  0.,  0.,  0.,  0.,  0.,  0.,\n",
       "         0.,  0.,  0.,  0.,  0.,  0.,  0.,  0.,  0.,  0.,  0.,  0.,  0.,\n",
       "         0.,  0.,  0.,  0.,  0.,  0.,  0.,  0.,  0.,  0.,  0.,  0.,  0.,\n",
       "         0.,  0.,  0.,  0.,  0.,  0.,  0.,  0.,  0.,  0.,  0.,  0.,  0.,\n",
       "         0.,  0.,  0.,  0.,  0.,  0.,  0.,  0.,  0.,  0.,  0.,  0.,  0.,\n",
       "         0.,  0.,  0.,  0.,  0.,  0.,  0.,  0.,  0.]),\n",
       " array([ 0.,  0.,  0.,  0.,  0.,  0.,  0.,  0.,  0.,  0.,  0.,  0.,  0.,\n",
       "         0.,  0.,  0.,  0.,  0.,  0.,  0.,  0.,  0.,  0.,  0.,  0.,  0.,\n",
       "         0.,  0.,  0.,  0.,  0.,  0.,  0.,  0.,  0.,  0.,  0.,  0.,  0.,\n",
       "         0.,  0.,  0.,  0.,  0.,  0.,  0.,  0.,  0.,  0., 50.,  0.,  0.,\n",
       "         0.,  0.,  0.,  0.,  0.,  0.,  0.,  0.,  0.,  0.,  0.,  0.,  0.,\n",
       "         0.,  0.,  0.,  0.,  0.,  0.,  0.,  0.,  0.,  0.,  0.,  0.,  0.,\n",
       "         0.,  0.,  0.,  0.,  0.,  0.,  0.,  0.,  0.,  0.,  0.,  0.,  0.,\n",
       "         0.,  0.,  0.,  0.,  0.,  0.,  0.,  0.,  0.]),\n",
       " array([  0.,   0.,   0.,   0.,   0.,   0.,   0.,   0.,   0.,   0.,   0.,\n",
       "          0.,   0.,   0.,   0.,   0.,   0.,   0.,   0.,   0.,   0.,   0.,\n",
       "          0.,   0.,   0.,   0.,   0.,   0.,   0.,   0.,   0.,   0.,   0.,\n",
       "          0.,   0.,   0.,   0.,   0.,   0.,   0.,   0.,   0.,   0.,   0.,\n",
       "          0.,   0.,   0.,   0.,   0.,   0.,   0.,   0.,   0.,   0.,   0.,\n",
       "          0.,   0.,   0.,   0.,   0.,   0.,   0.,   0.,   0.,   0.,   0.,\n",
       "          0.,   0.,   0.,   0.,   0.,   0.,   0.,   0.,   0.,   0.,   0.,\n",
       "          0.,   0.,   0.,   0.,   0.,   0.,   0.,   0.,   0.,   0.,   0.,\n",
       "          0.,   0.,   0.,   0.,   0.,   0.,   0.,   0.,   0.,   0.,   0.,\n",
       "        100.]))"
      ]
     },
     "execution_count": 67,
     "metadata": {},
     "output_type": "execute_result"
    }
   ],
   "source": [
    "ceiling_10 = np.zeros(100)\n",
    "ceiling_10[9:10:] = 1\n",
    "\n",
    "ceiling_50 = np.zeros(100)\n",
    "ceiling_50[49:50:] = 1\n",
    "\n",
    "ceiling_99 = np.zeros(100)\n",
    "ceiling_99[99:100:] = 1\n",
    "\n",
    "ceiling_10 * pricing, ceiling_50 * pricing, ceiling_99 * pricing"
   ]
  },
  {
   "cell_type": "markdown",
   "metadata": {},
   "source": [
    "### Evolutionary Battles"
   ]
  },
  {
   "cell_type": "markdown",
   "metadata": {},
   "source": [
    "Let's define a bunch of strategies to compare."
   ]
  },
  {
   "cell_type": "code",
   "execution_count": null,
   "metadata": {},
   "outputs": [],
   "source": [
    "S0 = np.zeros(100).astype(int)\n",
    "S0[0] = 1\n",
    "S0[-1] = 1\n",
    "\n",
    "S1 = np.zeros(100).astype(int)\n",
    "S1[0] = 1\n",
    "S1[9::10] = 1\n",
    "\n",
    "S2 = np.zeros(100).astype(int)\n",
    "S2[0] = 1\n",
    "S2[24::25] = 1\n",
    "\n",
    "S3 = np.zeros(100).astype(int)\n",
    "S3[0] = 1\n",
    "S3[32::33] = 1"
   ]
  },
  {
   "cell_type": "markdown",
   "metadata": {},
   "source": [
    "The `create_population` function will accept a list of strategies and a replication amount. It will return an array containing each strategy as many times as the replication amount is.\n",
    "\n",
    "strategies [S1, S2] -> create_population(strategies, 3) -> population [S1, S1, S1, S2, S2, S2]"
   ]
  },
  {
   "cell_type": "code",
   "execution_count": null,
   "metadata": {},
   "outputs": [
    {
     "ename": "NameError",
     "evalue": "name 'strategies' is not defined",
     "output_type": "error",
     "traceback": [
      "\u001b[0;31m---------------------------------------------------------------------------\u001b[0m",
      "\u001b[0;31mNameError\u001b[0m                                 Traceback (most recent call last)",
      "Cell \u001b[0;32mIn[69], line 1\u001b[0m\n\u001b[0;32m----> 1\u001b[0m \u001b[38;5;28;01mdef\u001b[39;00m \u001b[38;5;21mcreate_population\u001b[39m(strategies, replication\u001b[38;5;241m=\u001b[39m\u001b[38;5;28mlen\u001b[39m(\u001b[43mstrategies\u001b[49m)):\n\u001b[1;32m      2\u001b[0m   population \u001b[38;5;241m=\u001b[39m np\u001b[38;5;241m.\u001b[39mzeros((\u001b[38;5;28mlen\u001b[39m(strategies) \u001b[38;5;241m*\u001b[39m replication, \u001b[38;5;241m100\u001b[39m))\n\u001b[1;32m      4\u001b[0m   \u001b[38;5;28;01mfor\u001b[39;00m i, strategy \u001b[38;5;129;01min\u001b[39;00m \u001b[38;5;28menumerate\u001b[39m(strategies):\n",
      "\u001b[0;31mNameError\u001b[0m: name 'strategies' is not defined"
     ]
    }
   ],
   "source": [
    "def create_population(strategies, replication=len(strategies)):\n",
    "  population = np.zeros((len(strategies) * replication, 100))\n",
    "\n",
    "  for i, strategy in enumerate(strategies):\n",
    "    for r in range(replication):\n",
    "      population[i * replication + r] = strategy\n",
    "\n",
    "  return population"
   ]
  },
  {
   "cell_type": "markdown",
   "metadata": {},
   "source": [
    "Let's define a function that counts the occurence of each strategy in a given population."
   ]
  },
  {
   "cell_type": "code",
   "execution_count": null,
   "metadata": {},
   "outputs": [],
   "source": [
    "def strategy_occurrence(population, strategy):\n",
    "  return np.sum(np.all(population == strategy, axis=1))"
   ]
  },
  {
   "cell_type": "code",
   "execution_count": null,
   "metadata": {},
   "outputs": [
    {
     "name": "stdout",
     "output_type": "stream",
     "text": [
      "S0 5\n",
      "S1 5\n",
      "S2 5\n",
      "S3 5\n"
     ]
    }
   ],
   "source": [
    "strategies = [S0, S1, S2, S3]\n",
    "strategy_names = [\"S0\", \"S1\", \"S2\", \"S3\"]\n",
    "population = create_population(strategies, replication=5)\n",
    "\n",
    "for strategy, name in zip(strategies, strategy_names):\n",
    "  print(name, strategy_occurrence(population, strategy))"
   ]
  },
  {
   "cell_type": "code",
   "execution_count": null,
   "metadata": {},
   "outputs": [],
   "source": [
    "def sample_population(population, sample_size):\n",
    "  indexes = np.random.choice(len(population), sample_size, replace=False)\n",
    "\n",
    "  return indexes, population[indexes]"
   ]
  },
  {
   "cell_type": "code",
   "execution_count": null,
   "metadata": {},
   "outputs": [
    {
     "data": {
      "text/plain": [
       "(array([17, 10]),\n",
       " array([[1., 0., 0., 0., 0., 0., 0., 0., 0., 0., 0., 0., 0., 0., 0., 0.,\n",
       "         0., 0., 0., 0., 0., 0., 0., 0., 0., 0., 0., 0., 0., 0., 0., 0.,\n",
       "         1., 0., 0., 0., 0., 0., 0., 0., 0., 0., 0., 0., 0., 0., 0., 0.,\n",
       "         0., 0., 0., 0., 0., 0., 0., 0., 0., 0., 0., 0., 0., 0., 0., 0.,\n",
       "         0., 1., 0., 0., 0., 0., 0., 0., 0., 0., 0., 0., 0., 0., 0., 0.,\n",
       "         0., 0., 0., 0., 0., 0., 0., 0., 0., 0., 0., 0., 0., 0., 0., 0.,\n",
       "         0., 0., 1., 0.],\n",
       "        [1., 0., 0., 0., 0., 0., 0., 0., 0., 0., 0., 0., 0., 0., 0., 0.,\n",
       "         0., 0., 0., 0., 0., 0., 0., 0., 1., 0., 0., 0., 0., 0., 0., 0.,\n",
       "         0., 0., 0., 0., 0., 0., 0., 0., 0., 0., 0., 0., 0., 0., 0., 0.,\n",
       "         0., 1., 0., 0., 0., 0., 0., 0., 0., 0., 0., 0., 0., 0., 0., 0.,\n",
       "         0., 0., 0., 0., 0., 0., 0., 0., 0., 0., 1., 0., 0., 0., 0., 0.,\n",
       "         0., 0., 0., 0., 0., 0., 0., 0., 0., 0., 0., 0., 0., 0., 0., 0.,\n",
       "         0., 0., 0., 1.]]))"
      ]
     },
     "execution_count": 818,
     "metadata": {},
     "output_type": "execute_result"
    }
   ],
   "source": [
    "battle_indexes, battle_strategies = sample_population(population, 2)\n",
    "\n",
    "battle_indexes, battle_strategies"
   ]
  },
  {
   "cell_type": "code",
   "execution_count": null,
   "metadata": {},
   "outputs": [
    {
     "data": {
      "image/png": "[encoded data removed]",
      "text/plain": [
       "<Figure size 640x480 with 1 Axes>"
      ]
     },
     "metadata": {},
     "output_type": "display_data"
    }
   ],
   "source": [
    "BATTLES = 25\n",
    "ROUNDS_PER_BATTLE = 100\n",
    "STARTING_BALANCE = 1000\n",
    "\n",
    "strategies = [S0, S1, S2, S3]\n",
    "strategy_names = ['S0', 'S1', 'S2', 'S3']\n",
    "population = create_population(strategies, replication=5)\n",
    "\n",
    "data = np.ndarray((BATTLES + 1, len(strategies)))\n",
    "\n",
    "for battle_index in range(BATTLES):\n",
    "  for strategy_index, strategy in enumerate(strategies):\n",
    "    data[battle_index][strategy_index] = strategy_occurrence(population, strategy)\n",
    "\n",
    "  battle_indexes, battle_strategies = sample_population(population, 2)\n",
    "\n",
    "  players = [\n",
    "    Player(0, battle_strategies[0], balance=STARTING_BALANCE),\n",
    "    Player(1, battle_strategies[1], balance=STARTING_BALANCE),\n",
    "  ]\n",
    "\n",
    "  auction = HundredVoteAuction(\n",
    "    players=players,\n",
    "    rounds=ROUNDS_PER_BATTLE\n",
    "  )\n",
    "\n",
    "  auction.run()\n",
    "\n",
    "  # replace loosing strategy with the winning one\n",
    "  if players[0].balance > players[1].balance:\n",
    "    population[battle_indexes[1]] = population[battle_indexes[0]]\n",
    "  else:\n",
    "    population[battle_indexes[0]] = population[battle_indexes[1]]\n",
    "\n",
    "for strategy_index, strategy in enumerate(strategies):\n",
    "  data[BATTLES][strategy_index] = strategy_occurrence(population, strategy)\n",
    "\n",
    "plt.plot(data, label=strategy_names)\n",
    "plt.xlabel('Battle #')\n",
    "plt.ylabel('Strategy Occurrence')\n",
    "plt.legend()\n",
    "plt.show()"
   ]
  },
  {
   "cell_type": "code",
   "execution_count": null,
   "metadata": {},
   "outputs": [],
   "source": [
    "BATTLES = 50\n",
    "\n",
    "def fitness(population, strategies):\n",
    "  unique_strategy_count = len(strategies)\n",
    "  data = np.ndarray((BATTLES + 1, len(unique_strategy_count)))\n",
    "\n",
    "  for battle_index in range(BATTLES):\n",
    "    for strategy_index, strategy in enumerate(strategies):\n",
    "      data[battle_index][strategy_index] = strategy_occurrence(population, strategy)\n",
    "\n",
    "    battle = random.sample(list(enumerate(population)), 2)\n",
    "\n",
    "    players = [\n",
    "      Player(f\"Strategy {battle[0][0]}\", battle[0][1], balance=STARTING_BALANCE),\n",
    "      Player(f\"Strategy {battle[1][0]}\", battle[1][1], balance=STARTING_BALANCE),\n",
    "    ]\n",
    "\n",
    "    auction = HundredVoteAuction(\n",
    "      players=players,\n",
    "      rounds=ROUNDS_PER_BATTLE\n",
    "    )\n"
   ]
  },
  {
   "cell_type": "code",
   "execution_count": null,
   "metadata": {},
   "outputs": [],
   "source": [
    "def unique_strategies(population):\n",
    "  strategy, count = np.unique(population, return_counts=True, axis=0)\n",
    "\n",
    "  return strategy, count"
   ]
  },
  {
   "cell_type": "code",
   "execution_count": null,
   "metadata": {},
   "outputs": [
    {
     "name": "stdout",
     "output_type": "stream",
     "text": [
      "[  1. 100.] 5\n",
      "[ 1. 33. 66. 99.] 5\n",
      "[  1.  25.  50.  75. 100.] 5\n",
      "[  1.  10.  20.  30.  40.  50.  60.  70.  80.  90. 100.] 5\n"
     ]
    }
   ],
   "source": [
    "population = create_population([S0, S1, S2, S3], replication=5)\n",
    "strategies, counts = unique_strategies(population)\n",
    "\n",
    "for strategy, count in zip(strategies, counts):\n",
    "  print(strategy_to_bids(strategy), count)"
   ]
  }
 ],
 "metadata": {
  "kernelspec": {
   "display_name": "Python 3",
   "language": "python",
   "name": "python3"
  },
  "language_info": {
   "codemirror_mode": {
    "name": "ipython",
    "version": 3
   },
   "file_extension": ".py",
   "mimetype": "text/x-python",
   "name": "python",
   "nbconvert_exporter": "python",
   "pygments_lexer": "ipython3",
   "version": "3.9.6"
  }
 },
 "nbformat": 4,
 "nbformat_minor": 2
}
